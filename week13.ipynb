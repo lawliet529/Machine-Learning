{
 "cells": [
  {
   "cell_type": "markdown",
   "id": "2a55154e-6202-4cdd-bc9e-f8f42292e350",
   "metadata": {},
   "source": [
    "# MULTI-CLASS SUPPORT VECTOR MACHINE"
   ]
  },
  {
   "cell_type": "markdown",
   "id": "393d83d4-cbbc-4116-8c0e-ad19f2881524",
   "metadata": {},
   "source": [
    "## Ví dụ 1"
   ]
  },
  {
   "cell_type": "code",
   "execution_count": 1,
   "id": "24a803cf-73e0-4f58-9643-272b1818067d",
   "metadata": {
    "tags": []
   },
   "outputs": [],
   "source": [
    "import numpy as np\n",
    "from random import shuffle\n",
    "\n",
    "N, C, d = 25000, 10, 3000\n",
    "reg = .05\n",
    "W = np.random.randn(d, C)\n",
    "X = np.random.randn(d, N)\n",
    "y = np.random.randint(C, size = N)"
   ]
  },
  {
   "cell_type": "code",
   "execution_count": 2,
   "id": "c890930b-45e6-4f79-8f38-8203617ebe88",
   "metadata": {
    "tags": []
   },
   "outputs": [],
   "source": [
    "# method to compute loss function and its gradient\n",
    "# here vectorization was used to speed up\n",
    "def svm_loss_vectorized(W, X, y, reg):\n",
    "    d, C = W.shape\n",
    "    _, N = X.shape\n",
    "    loss = 0\n",
    "    dW = np.zeros_like(W)\n",
    "    \n",
    "    Z = W.T.dot(X)\n",
    "    \n",
    "    correct_class_score = np.choose(y, Z).reshape(N,1).T\n",
    "    margins = np.maximum(0, Z - correct_class_score + 1)\n",
    "    margins[y, np.arange(margins.shape[1])] = 0\n",
    "    # Loss function\n",
    "    loss = np.sum(margins, axis = (0, 1))\n",
    "    loss /= N\n",
    "    loss += 0.5 * reg * np.sum(W * W)\n",
    "    \n",
    "    F = (margins > 0).astype(int)\n",
    "    F[y, np.arange(F.shape[1])] = np.sum(-F, axis = 0)\n",
    "    # Gradient\n",
    "    dW = X.dot(F.T)/N + reg*W\n",
    "    return loss, dW"
   ]
  },
  {
   "cell_type": "code",
   "execution_count": 3,
   "id": "f3ed9333-f809-48d4-8f95-79c17e979abd",
   "metadata": {
    "tags": []
   },
   "outputs": [],
   "source": [
    "# Mini-batch gradient descent\n",
    "def multiclass_svm_GD(X, y, Winit, reg, lr=.1, \\\n",
    "                      batch_size = 100, num_iters = 1000, print_every = 100):\n",
    "    W = Winit\n",
    "    loss_history = np.zeros((num_iters))\n",
    "    for it in range(num_iters):\n",
    "        # randomly pick a batch of X\n",
    "        idx = np.random.choice(X.shape[1], batch_size)\n",
    "        X_batch = X[:, idx]\n",
    "        y_batch = y[idx]\n",
    "        \n",
    "        loss_history[it], dW = \\\n",
    "        svm_loss_vectorized(W, X_batch, y_batch, reg)\n",
    "        \n",
    "        W -= lr*dW\n",
    "        if it % print_every == 1:\n",
    "            print ('it %d/%d, loss = %f' %(it, num_iters, loss_history[it]))\n",
    "            \n",
    "    return W, loss_history"
   ]
  },
  {
   "cell_type": "code",
   "execution_count": 4,
   "id": "f1ed8d4b-5b2f-4171-a77c-85a268bb3618",
   "metadata": {
    "tags": []
   },
   "outputs": [
    {
     "name": "stdout",
     "output_type": "stream",
     "text": [
      "it 1/1000, loss = 1025.164582\n",
      "it 101/1000, loss = 368.408827\n",
      "it 201/1000, loss = 134.772438\n",
      "it 301/1000, loss = 61.154770\n",
      "it 401/1000, loss = 36.702838\n",
      "it 501/1000, loss = 34.079032\n",
      "it 601/1000, loss = 33.329720\n",
      "it 701/1000, loss = 33.991940\n",
      "it 801/1000, loss = 29.654708\n",
      "it 901/1000, loss = 32.149010\n"
     ]
    },
    {
     "data": {
      "image/png": "[encoded data removed]",
      "text/plain": [
       "<Figure size 640x480 with 1 Axes>"
      ]
     },
     "metadata": {},
     "output_type": "display_data"
    }
   ],
   "source": [
    "W, loss_history = multiclass_svm_GD(X, y, W, reg)\n",
    "\n",
    "import matplotlib.pyplot as plt\n",
    "# plot loss as a function of iteration\n",
    "plt.plot(loss_history)\n",
    "plt.show()"
   ]
  },
  {
   "cell_type": "markdown",
   "id": "b4bf5186-cef6-452f-91b6-9f9f6cb657da",
   "metadata": {},
   "source": [
    "## Bài tập thực hành 1"
   ]
  },
  {
   "cell_type": "code",
   "execution_count": 5,
   "id": "be2d71f4-9e5f-43b2-808e-171066977308",
   "metadata": {},
   "outputs": [
    {
     "data": {
      "text/plain": [
       "array([7, 6, 6, ..., 2, 4, 4])"
      ]
     },
     "execution_count": 5,
     "metadata": {},
     "output_type": "execute_result"
    }
   ],
   "source": [
    "y_pred = np.argmax(X.T.dot(W), axis=1)\n",
    "y_pred"
   ]
  },
  {
   "cell_type": "code",
   "execution_count": 6,
   "id": "b3ddbe11-37d0-4b66-b9ec-6edb641b22b2",
   "metadata": {},
   "outputs": [
    {
     "name": "stdout",
     "output_type": "stream",
     "text": [
      "Accuracy score: 0.2692\n",
      "Confusion matrix:\n",
      "[[635 216 228 178 216 224 222 190 184 219]\n",
      " [204 680 218 202 178 201 180 206 222 212]\n",
      " [213 214 702 215 193 185 217 223 154 226]\n",
      " [192 198 202 677 164 218 199 201 200 200]\n",
      " [218 186 208 193 646 209 188 211 186 206]\n",
      " [212 189 234 194 174 700 210 235 196 232]\n",
      " [201 212 208 194 200 214 673 201 204 218]\n",
      " [197 206 216 185 180 212 195 687 163 216]\n",
      " [206 190 215 198 188 222 218 186 665 191]\n",
      " [163 203 225 201 212 220 213 203 199 665]]\n"
     ]
    }
   ],
   "source": [
    "from sklearn.metrics import accuracy_score, confusion_matrix\n",
    "\n",
    "print(\"Accuracy score:\", accuracy_score(y, y_pred))\n",
    "print(\"Confusion matrix:\")\n",
    "print(confusion_matrix(y, y_pred))"
   ]
  },
  {
   "cell_type": "markdown",
   "id": "a997c766-b0bc-4c9f-81d6-22348eddc9c5",
   "metadata": {},
   "source": [
    "## Bài tập thực hành 2"
   ]
  },
  {
   "cell_type": "code",
   "execution_count": 7,
   "id": "db24c1aa-310a-40eb-97c1-20d85681f996",
   "metadata": {},
   "outputs": [],
   "source": [
    "import os\n",
    "import numpy as np\n",
    "\n",
    "# set names to the paths because they're too long\n",
    "data_path = os.path.join(os.getcwd(), 'handwriting')\n",
    "\n",
    "# train path\n",
    "train_images_path = os.path.join(data_path, 'train-images-idx3-ubyte.gz')\n",
    "train_labels_path = os.path.join(data_path, 'train-labels-idx1-ubyte.gz')\n",
    "\n",
    "# test path\n",
    "test_images_path = os.path.join(data_path, 't10k-images-idx3-ubyte.gz')\n",
    "test_labels_path = os.path.join(data_path, 't10k-labels-idx1-ubyte.gz')"
   ]
  },
  {
   "cell_type": "code",
   "execution_count": 8,
   "id": "23169b27-6293-4fe9-8484-e54a66042a2e",
   "metadata": {},
   "outputs": [],
   "source": [
    "def get_mnist_data(images_path,\n",
    "                   labels_path,\n",
    "                   num_images,\n",
    "                   shuffle=False,\n",
    "                   _is=True,\n",
    "                   image_size=28):\n",
    "    \"\"\"\n",
    "        This shuffle param is active when .gz is downloaded at:\n",
    "            - 'http://yann.lecun.com/exdb/mnist/'\n",
    "            - This function return random num_images in 60000 or 10000\n",
    "    \"\"\"\n",
    "    # read data\n",
    "    import gzip  # to decompress gz (zip) file\n",
    "\n",
    "    # open file training to read training data\n",
    "    f_images = gzip.open(images_path, 'r')\n",
    "\n",
    "    # skip 16 first bytes because these are not data, only header infor\n",
    "    f_images.read(16)\n",
    "\n",
    "    # general: read num_images data samples if this parameter is set;\n",
    "    # if not, read all (60000 training or 10000 test)\n",
    "    real_num = num_images if not shuffle else (60000 if _is else 10000)\n",
    "\n",
    "    # read all data to buf_images (28x28xreal_num)\n",
    "    buf_images = f_images.read(image_size * image_size * real_num)\n",
    "\n",
    "    # images\n",
    "    images = np.frombuffer(buf_images, dtype=np.uint8).astype(np.float32)\n",
    "    images = images.reshape(real_num, image_size, image_size)\n",
    "\n",
    "    # Read labels\n",
    "    f_labels = gzip.open(labels_path, 'r')\n",
    "    f_labels.read(8)\n",
    "\n",
    "    labels = np.zeros((real_num)).astype(np.int64)\n",
    "\n",
    "    # rearrange to correspond the images and labels\n",
    "    for i in range(0, real_num):\n",
    "        buf_labels = f_labels.read(1)\n",
    "        labels[i] = np.frombuffer(buf_labels, dtype=np.uint8).astype(np.int64)\n",
    "\n",
    "    # shuffle to get random images data\n",
    "    if shuffle is True:\n",
    "        rand_id = np.random.randint(real_num, size=num_images)\n",
    "\n",
    "        images = images[rand_id, :]\n",
    "        labels = labels[rand_id, ]\n",
    "\n",
    "    # change images data to type of vector 28x28 dimentional\n",
    "    images = images.reshape(num_images, image_size * image_size)\n",
    "    return images, labels"
   ]
  },
  {
   "cell_type": "code",
   "execution_count": 9,
   "id": "52873d4e-13e8-4edf-a9bf-77c33f8d211c",
   "metadata": {},
   "outputs": [
    {
     "name": "stdout",
     "output_type": "stream",
     "text": [
      "(5000, 784) (5000,)\n",
      "(10000, 784) (10000,)\n"
     ]
    }
   ],
   "source": [
    "train_images, train_labels = get_mnist_data(train_images_path,\n",
    "                                            train_labels_path,\n",
    "                                            5000,\n",
    "                                            shuffle=True)\n",
    "test_images, test_labels = get_mnist_data(test_images_path,\n",
    "                                          test_labels_path,\n",
    "                                          10000,\n",
    "                                          _is=False,\n",
    "                                          shuffle=True)\n",
    "\n",
    "print(train_images.shape, train_labels.shape)\n",
    "print(test_images.shape, test_labels.shape)"
   ]
  },
  {
   "cell_type": "code",
   "execution_count": 10,
   "id": "2c094ce9-5b22-4293-9fe7-38869fbeacd5",
   "metadata": {},
   "outputs": [],
   "source": [
    "# method to compute loss function and its gradient\n",
    "# here vectorization was used to speed up\n",
    "def svm_loss_vectorized(W, X, y, reg):\n",
    "    d, C = W.shape\n",
    "    _, N = X.shape\n",
    "    loss = 0\n",
    "    dW = np.zeros_like(W)\n",
    "    \n",
    "    Z = W.T.dot(X)\n",
    "    \n",
    "    correct_class_score = np.choose(y, Z).reshape(N,1).T\n",
    "    margins = np.maximum(0, Z - correct_class_score + 1)\n",
    "    margins[y, np.arange(margins.shape[1])] = 0\n",
    "    # Loss function\n",
    "    loss = np.sum(margins, axis = (0, 1))\n",
    "    loss /= N\n",
    "    loss += 0.5 * reg * np.sum(W * W)\n",
    "    \n",
    "    F = (margins > 0).astype(int)\n",
    "    F[y, np.arange(F.shape[1])] = np.sum(-F, axis = 0)\n",
    "    # Gradient\n",
    "    dW = X.dot(F.T)/N + reg*W\n",
    "    return loss, dW"
   ]
  },
  {
   "cell_type": "code",
   "execution_count": 11,
   "id": "892d3420-5a32-423e-855e-74c8806781d5",
   "metadata": {},
   "outputs": [],
   "source": [
    "# Mini-batch gradient descent\n",
    "def multiclass_svm_GD(X, y, Winit, reg, lr=.1, \\\n",
    "                      batch_size = 100, num_iters = 1000, print_every = 100):\n",
    "    W = Winit\n",
    "    loss_history = np.zeros((num_iters))\n",
    "    for it in range(num_iters):\n",
    "        # randomly pick a batch of X\n",
    "        idx = np.random.choice(X.shape[1], batch_size)\n",
    "        X_batch = X[:, idx]\n",
    "        y_batch = y[idx]\n",
    "        \n",
    "        loss_history[it], dW = \\\n",
    "        svm_loss_vectorized(W, X_batch, y_batch, reg)\n",
    "        \n",
    "        W -= lr*dW\n",
    "        if it % print_every == 1:\n",
    "            print ('it %d/%d, loss = %f' %(it, num_iters, loss_history[it]))\n",
    "            \n",
    "    return W, loss_history"
   ]
  },
  {
   "cell_type": "code",
   "execution_count": 12,
   "id": "4b24a915-d26f-427a-90f8-67e4055bfa5e",
   "metadata": {},
   "outputs": [
    {
     "name": "stdout",
     "output_type": "stream",
     "text": [
      "it 1/1000, loss = 241207.819597\n",
      "it 101/1000, loss = 6153.566883\n",
      "it 201/1000, loss = 5408.541577\n",
      "it 301/1000, loss = 4283.500988\n",
      "it 401/1000, loss = 30766.963223\n",
      "it 501/1000, loss = 6382.174710\n",
      "it 601/1000, loss = 7742.524125\n",
      "it 701/1000, loss = 34218.544901\n",
      "it 801/1000, loss = 5409.823402\n",
      "it 901/1000, loss = 3994.295980\n"
     ]
    },
    {
     "data": {
      "image/png": "[encoded data removed]",
      "text/plain": [
       "<Figure size 640x480 with 1 Axes>"
      ]
     },
     "metadata": {},
     "output_type": "display_data"
    }
   ],
   "source": [
    "X_train = train_images\n",
    "X_test = test_images\n",
    "y_train = train_labels\n",
    "y_test = test_labels\n",
    "\n",
    "d = X_train.shape[1]\n",
    "C = 10\n",
    "W = np.random.randn(d, C)\n",
    "reg = .05\n",
    "\n",
    "W, loss_history = multiclass_svm_GD(X_train.T, train_labels, W, reg)\n",
    "\n",
    "import matplotlib.pyplot as plt\n",
    "# plot loss as a function of iteration\n",
    "plt.plot(loss_history)\n",
    "plt.show()"
   ]
  },
  {
   "cell_type": "code",
   "execution_count": 13,
   "id": "cee6ddce-b52d-4d57-a464-70f3482f3415",
   "metadata": {},
   "outputs": [
    {
     "data": {
      "text/plain": [
       "array([4, 2, 4, ..., 2, 8, 7])"
      ]
     },
     "execution_count": 13,
     "metadata": {},
     "output_type": "execute_result"
    }
   ],
   "source": [
    "y_pred = np.argmax(X_test.dot(W), axis=1)\n",
    "y_pred"
   ]
  },
  {
   "cell_type": "code",
   "execution_count": 14,
   "id": "36059587-43f7-4989-ab80-960f25bbaec9",
   "metadata": {},
   "outputs": [
    {
     "name": "stdout",
     "output_type": "stream",
     "text": [
      "Accuracy score: 0.8584\n",
      "Confusion matrix:\n",
      "[[ 940    0    0    1    0    2    6    3   12    0]\n",
      " [   0 1096    0    1    4    0    2    1   45    0]\n",
      " [  31   19  743   22   36    0   31   27  124    6]\n",
      " [  10    2    8  893    1   20    4   18   32    3]\n",
      " [   3    0    0    0  878    0    8    0   15   68]\n",
      " [  52    2    0   75   37  577   25    6  129   18]\n",
      " [  26    3    3    1   31    8  840    4   11    0]\n",
      " [   1    7   12    9   18    0    0  909   25   50]\n",
      " [  14    4    0   27   24   11    6    9  891    3]\n",
      " [  16    6    3   16   89    6    0   42   22  817]]\n"
     ]
    }
   ],
   "source": [
    "from sklearn.metrics import accuracy_score, confusion_matrix\n",
    "\n",
    "print(\"Accuracy score:\", accuracy_score(y_test, y_pred))\n",
    "print(\"Confusion matrix:\")\n",
    "print(confusion_matrix(y_test, y_pred))"
   ]
  },
  {
   "cell_type": "markdown",
   "id": "14f164c7-3a45-405c-9d64-e8d8ad0f27a3",
   "metadata": {},
   "source": [
    "## Ví dụ 2"
   ]
  },
  {
   "cell_type": "code",
   "execution_count": 15,
   "id": "b0ef7167-9e87-4fca-a605-9a5d4d8829cf",
   "metadata": {},
   "outputs": [
    {
     "data": {
      "image/png": "[encoded data removed]",
      "text/plain": [
       "<Figure size 640x480 with 1 Axes>"
      ]
     },
     "metadata": {},
     "output_type": "display_data"
    }
   ],
   "source": [
    "import numpy as np\n",
    "import matplotlib.pyplot as plt\n",
    "from sklearn.preprocessing import StandardScaler\n",
    "from sklearn.svm import SVC\n",
    "\n",
    "N = 1000 # Number of samples\n",
    "\n",
    "# Create synthetic dataset\n",
    "X1 = np.random.normal(loc=0, scale=1, size=(N, 2))\n",
    "Y1 = 0 * np.ones(shape=(1000,)) # LABEL = 0\n",
    "\n",
    "X2 = np.random.normal(loc=[-5, 5], scale=1, size=(N, 2))\n",
    "Y2 = 1 * np.ones(shape=(1000,)) # LABEL = 1\n",
    "\n",
    "X3 = np.random.normal(loc=[5, -5], scale=1, size=(N, 2))\n",
    "Y3 = 2 * np.ones(shape=(1000,)) # LABEL = 2\n",
    "\n",
    "# Create stacked dataset\n",
    "X = np.vstack((X1, X2, X3))\n",
    "Y = np.hstack((Y1, Y2, Y3))\n",
    "\n",
    "# TRAIN SVM LEARNING ALGORITHM\n",
    "clf = SVC(kernel='linear')\n",
    "clf = clf.fit(X, Y)\n",
    "\n",
    "# create decision boundary plot\n",
    "xx, yy = np.meshgrid(\n",
    "np.arange(-10, 10, 0.2),\n",
    "np.arange(-10, 10, 0.2))\n",
    "Z = clf.predict(np.c_[xx.ravel(), yy.ravel()])\n",
    "Z = Z.reshape(xx.shape)\n",
    "\n",
    "# PLOT EVERYTHING\n",
    "plt.scatter(X1[:,0], X1[:,1], color='r')\n",
    "plt.scatter(X2[:,0], X2[:,1], color='b')\n",
    "plt.scatter(X3[:,0], X3[:,1], color='y')\n",
    "plt.contourf(xx,yy,Z,cmap=plt.cm.coolwarm, alpha=0.8)\n",
    "plt.title(\"SVM for Three Labels (0, 1, 2)\")\n",
    "plt.show()"
   ]
  },
  {
   "cell_type": "markdown",
   "id": "13acb0c1-fbad-4d94-be3d-3b8ed2b41ce8",
   "metadata": {},
   "source": [
    "### Bài tập tự thực hành"
   ]
  },
  {
   "cell_type": "code",
   "execution_count": 16,
   "id": "daf175d3-dd35-4180-a12b-5ba31a121d17",
   "metadata": {},
   "outputs": [],
   "source": [
    "import os\n",
    "import numpy as np\n",
    "\n",
    "# set names to the paths because they're too long\n",
    "data_path = os.path.join(os.getcwd(), 'handwriting')\n",
    "\n",
    "# train path\n",
    "train_images_path = os.path.join(data_path, 'train-images-idx3-ubyte.gz')\n",
    "train_labels_path = os.path.join(data_path, 'train-labels-idx1-ubyte.gz')\n",
    "\n",
    "# test path\n",
    "test_images_path = os.path.join(data_path, 't10k-images-idx3-ubyte.gz')\n",
    "test_labels_path = os.path.join(data_path, 't10k-labels-idx1-ubyte.gz')"
   ]
  },
  {
   "cell_type": "code",
   "execution_count": 17,
   "id": "02963d5c-b3d6-4d71-b63c-0f2e147752a6",
   "metadata": {},
   "outputs": [],
   "source": [
    "def get_mnist_data(images_path,\n",
    "                   labels_path,\n",
    "                   num_images,\n",
    "                   shuffle=False,\n",
    "                   _is=True,\n",
    "                   image_size=28):\n",
    "    \"\"\"\n",
    "        This shuffle param is active when .gz is downloaded at:\n",
    "            - 'http://yann.lecun.com/exdb/mnist/'\n",
    "            - This function return random num_images in 60000 or 10000\n",
    "    \"\"\"\n",
    "    # read data\n",
    "    import gzip  # to decompress gz (zip) file\n",
    "\n",
    "    # open file training to read training data\n",
    "    f_images = gzip.open(images_path, 'r')\n",
    "\n",
    "    # skip 16 first bytes because these are not data, only header infor\n",
    "    f_images.read(16)\n",
    "\n",
    "    # general: read num_images data samples if this parameter is set;\n",
    "    # if not, read all (60000 training or 10000 test)\n",
    "    real_num = num_images if not shuffle else (60000 if _is else 10000)\n",
    "\n",
    "    # read all data to buf_images (28x28xreal_num)\n",
    "    buf_images = f_images.read(image_size * image_size * real_num)\n",
    "\n",
    "    # images\n",
    "    images = np.frombuffer(buf_images, dtype=np.uint8).astype(np.float32)\n",
    "    images = images.reshape(real_num, image_size, image_size)\n",
    "\n",
    "    # Read labels\n",
    "    f_labels = gzip.open(labels_path, 'r')\n",
    "    f_labels.read(8)\n",
    "\n",
    "    labels = np.zeros((real_num)).astype(np.int64)\n",
    "\n",
    "    # rearrange to correspond the images and labels\n",
    "    for i in range(0, real_num):\n",
    "        buf_labels = f_labels.read(1)\n",
    "        labels[i] = np.frombuffer(buf_labels, dtype=np.uint8).astype(np.int64)\n",
    "\n",
    "    # shuffle to get random images data\n",
    "    if shuffle is True:\n",
    "        rand_id = np.random.randint(real_num, size=num_images)\n",
    "\n",
    "        images = images[rand_id, :]\n",
    "        labels = labels[rand_id, ]\n",
    "\n",
    "    # change images data to type of vector 28x28 dimentional\n",
    "    images = images.reshape(num_images, image_size * image_size)\n",
    "    return images, labels"
   ]
  },
  {
   "cell_type": "code",
   "execution_count": 18,
   "id": "c2d088dc-48b2-4442-b51e-cc299dbbdfb6",
   "metadata": {},
   "outputs": [
    {
     "name": "stdout",
     "output_type": "stream",
     "text": [
      "(1000, 784) (1000,)\n",
      "(500, 784) (500,)\n"
     ]
    }
   ],
   "source": [
    "train_images, train_labels = get_mnist_data(train_images_path,\n",
    "                                            train_labels_path,\n",
    "                                            1000,\n",
    "                                            shuffle=True)\n",
    "test_images, test_labels = get_mnist_data(test_images_path,\n",
    "                                          test_labels_path,\n",
    "                                          500,\n",
    "                                          _is=False,\n",
    "                                          shuffle=True)\n",
    "\n",
    "print(train_images.shape, train_labels.shape)\n",
    "print(test_images.shape, test_labels.shape)"
   ]
  },
  {
   "cell_type": "code",
   "execution_count": 19,
   "id": "68d963e6-f8b7-4ab4-8834-239f270e7e20",
   "metadata": {},
   "outputs": [],
   "source": [
    "# method to compute loss function and its gradient\n",
    "# here vectorization was used to speed up\n",
    "def svm_loss_vectorized(W, X, y, reg):\n",
    "    d, C = W.shape\n",
    "    _, N = X.shape\n",
    "    loss = 0\n",
    "    dW = np.zeros_like(W)\n",
    "    \n",
    "    Z = W.T.dot(X)\n",
    "    \n",
    "    correct_class_score = np.choose(y, Z).reshape(N,1).T\n",
    "    margins = np.maximum(0, Z - correct_class_score + 1)\n",
    "    margins[y, np.arange(margins.shape[1])] = 0\n",
    "    # Loss function\n",
    "    loss = np.sum(margins, axis = (0, 1))\n",
    "    loss /= N\n",
    "    loss += 0.5 * reg * np.sum(W * W)\n",
    "    \n",
    "    F = (margins > 0).astype(int)\n",
    "    F[y, np.arange(F.shape[1])] = np.sum(-F, axis = 0)\n",
    "    # Gradient\n",
    "    dW = X.dot(F.T)/N + reg*W\n",
    "    return loss, dW"
   ]
  },
  {
   "cell_type": "code",
   "execution_count": 20,
   "id": "ef801229-2b25-4baf-9769-0b140a33f907",
   "metadata": {},
   "outputs": [],
   "source": [
    "# Mini-batch gradient descent\n",
    "def multiclass_svm_GD(X, y, Winit, reg, lr=.1, \\\n",
    "                      batch_size = 100, num_iters = 1000, print_every = 100):\n",
    "    W = Winit\n",
    "    loss_history = np.zeros((num_iters))\n",
    "    for it in range(num_iters):\n",
    "        # randomly pick a batch of X\n",
    "        idx = np.random.choice(X.shape[1], batch_size)\n",
    "        X_batch = X[:, idx]\n",
    "        y_batch = y[idx]\n",
    "        \n",
    "        loss_history[it], dW = \\\n",
    "        svm_loss_vectorized(W, X_batch, y_batch, reg)\n",
    "        \n",
    "        W -= lr*dW\n",
    "        if it % print_every == 1:\n",
    "            print ('it %d/%d, loss = %f' %(it, num_iters, loss_history[it]))\n",
    "            \n",
    "    return W, loss_history"
   ]
  },
  {
   "cell_type": "code",
   "execution_count": 21,
   "id": "b1cce752-4e67-4cbb-86af-8a9bba5d66f7",
   "metadata": {},
   "outputs": [],
   "source": [
    "X_train = train_images\n",
    "X_test = test_images\n",
    "y_train = train_labels\n",
    "y_test = test_labels"
   ]
  },
  {
   "cell_type": "code",
   "execution_count": 22,
   "id": "fd946e6d-3497-4cf5-afa2-b593fe0b0fbc",
   "metadata": {},
   "outputs": [
    {
     "name": "stdout",
     "output_type": "stream",
     "text": [
      "it 1/1000, loss = 291508.454965\n",
      "it 101/1000, loss = 2496.352220\n",
      "it 201/1000, loss = 747.903601\n",
      "it 301/1000, loss = 1565.012736\n",
      "it 401/1000, loss = 2778.936317\n",
      "it 501/1000, loss = 910.678198\n",
      "it 601/1000, loss = 776.382805\n",
      "it 701/1000, loss = 3769.526008\n",
      "it 801/1000, loss = 11613.190005\n",
      "it 901/1000, loss = 3404.559532\n"
     ]
    },
    {
     "data": {
      "image/png": "[encoded data removed]",
      "text/plain": [
       "<Figure size 640x480 with 1 Axes>"
      ]
     },
     "metadata": {},
     "output_type": "display_data"
    }
   ],
   "source": [
    "d = X_train.shape[1]\n",
    "C = 10\n",
    "W = np.random.randn(d, C)\n",
    "reg = .05\n",
    "\n",
    "W, loss_history = multiclass_svm_GD(X_train.T, train_labels, W, reg)\n",
    "\n",
    "import matplotlib.pyplot as plt\n",
    "# plot loss as a function of iteration\n",
    "plt.plot(loss_history)\n",
    "plt.show()"
   ]
  },
  {
   "cell_type": "code",
   "execution_count": 23,
   "id": "9108b288-e5a3-48b8-87a0-8a3fd3a75af0",
   "metadata": {},
   "outputs": [],
   "source": [
    "y_pred = np.argmax(X_test.dot(W), axis=1)"
   ]
  },
  {
   "cell_type": "code",
   "execution_count": 24,
   "id": "15bd4d01-62cc-4d96-80ad-0d135c7b2374",
   "metadata": {},
   "outputs": [
    {
     "name": "stdout",
     "output_type": "stream",
     "text": [
      "Accuracy score: 0.834\n",
      "Confusion matrix:\n",
      "[[44  0  0  2  0  3  1  0  1  0]\n",
      " [ 0 53  0  0  0  0  0  0  0  0]\n",
      " [ 0  0 37  1  0  0  1  1  2  1]\n",
      " [ 0  0  3 43  0  3  1  0  2  2]\n",
      " [ 0  0  2  0 24  0  2  0  1 18]\n",
      " [ 0  1  0  0  0 30  4  0  4  2]\n",
      " [ 0  0  1  0  0  2 48  0  0  0]\n",
      " [ 0  1  1  0  0  0  0 45  1 14]\n",
      " [ 0  0  0  1  0  4  0  0 41  0]\n",
      " [ 0  0  0  0  0  0  0  0  0 52]]\n"
     ]
    }
   ],
   "source": [
    "from sklearn.metrics import accuracy_score, confusion_matrix\n",
    "\n",
    "print(\"Accuracy score:\", accuracy_score(y_test, y_pred))\n",
    "print(\"Confusion matrix:\")\n",
    "print(confusion_matrix(y_test, y_pred))"
   ]
  },
  {
   "cell_type": "code",
   "execution_count": 25,
   "id": "250ab647-5bd8-4b31-ab1a-fdf532af55d4",
   "metadata": {},
   "outputs": [],
   "source": [
    "from sklearn.svm import SVC\n",
    "\n",
    "# TRAIN SVM LEARNING ALGORITHM\n",
    "clf = SVC(kernel='linear')\n",
    "clf = clf.fit(X_train, y_train)"
   ]
  },
  {
   "cell_type": "code",
   "execution_count": 26,
   "id": "2562bd79-60fc-46ac-81b1-611c40f07864",
   "metadata": {},
   "outputs": [],
   "source": [
    "y_pred = clf.predict(X_test)"
   ]
  },
  {
   "cell_type": "code",
   "execution_count": 27,
   "id": "7b3b3663-eb44-4875-b029-1a011d282f73",
   "metadata": {},
   "outputs": [
    {
     "name": "stdout",
     "output_type": "stream",
     "text": [
      "Accuracy score: 0.896\n",
      "Confusion matrix:\n",
      "[[49  0  0  0  1  1  0  0  0  0]\n",
      " [ 0 53  0  0  0  0  0  0  0  0]\n",
      " [ 1  0 33  3  0  1  2  2  1  0]\n",
      " [ 1  1  0 46  0  3  1  0  2  0]\n",
      " [ 0  0  2  0 44  0  0  0  0  1]\n",
      " [ 2  0  1  6  1 29  0  0  1  1]\n",
      " [ 0  0  2  0  0  0 49  0  0  0]\n",
      " [ 0  1  1  0  1  0  0 57  0  2]\n",
      " [ 0  1  0  1  1  1  0  0 42  0]\n",
      " [ 0  0  0  1  4  0  0  0  1 46]]\n"
     ]
    }
   ],
   "source": [
    "from sklearn.metrics import accuracy_score, confusion_matrix\n",
    "\n",
    "print(\"Accuracy score:\", accuracy_score(y_test, y_pred))\n",
    "print(\"Confusion matrix:\")\n",
    "print(confusion_matrix(y_test, y_pred))"
   ]
  }
 ],
 "metadata": {
  "kernelspec": {
   "display_name": "Python 3 (ipykernel)",
   "language": "python",
   "name": "python3"
  },
  "language_info": {
   "codemirror_mode": {
    "name": "ipython",
    "version": 3
   },
   "file_extension": ".py",
   "mimetype": "text/x-python",
   "name": "python",
   "nbconvert_exporter": "python",
   "pygments_lexer": "ipython3",
   "version": "3.11.3"
  }
 },
 "nbformat": 4,
 "nbformat_minor": 5
}
